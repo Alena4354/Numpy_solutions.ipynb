{
  "nbformat": 4,
  "nbformat_minor": 0,
  "metadata": {
    "colab": {
      "provenance": []
    },
    "kernelspec": {
      "name": "python3",
      "display_name": "Python 3"
    },
    "language_info": {
      "name": "python"
    }
  },
  "cells": [
    {
      "cell_type": "markdown",
      "source": [
        "Промежуточная аттестация"
      ],
      "metadata": {
        "id": "FxoqqWy3HSce"
      }
    },
    {
      "cell_type": "markdown",
      "source": [
        "a.Импортируйте библиотеку NumPy"
      ],
      "metadata": {
        "id": "zcWrhLjOIBfJ"
      }
    },
    {
      "cell_type": "code",
      "execution_count": null,
      "metadata": {
        "id": "0Q2ZNFD3HRgD"
      },
      "outputs": [],
      "source": [
        "import numpy as np"
      ]
    },
    {
      "cell_type": "markdown",
      "source": [
        "b.Создайте массив из 10 нулей"
      ],
      "metadata": {
        "id": "F8EyjPuXIcC7"
      }
    },
    {
      "cell_type": "code",
      "source": [
        "array=np.zeros(10)\n",
        "print(\"An array of 10 zeros:\")\n",
        "print(array)"
      ],
      "metadata": {
        "colab": {
          "base_uri": "https://localhost:8080/"
        },
        "id": "t8-f5G0oIkEj",
        "outputId": "34822604-3fb8-4a67-95e5-b6e0e9b7da13"
      },
      "execution_count": null,
      "outputs": [
        {
          "output_type": "stream",
          "name": "stdout",
          "text": [
            "An array of 10 zeros:\n",
            "[0. 0. 0. 0. 0. 0. 0. 0. 0. 0.]\n"
          ]
        }
      ]
    },
    {
      "cell_type": "markdown",
      "source": [
        "c.Создать массив из 10 единиц"
      ],
      "metadata": {
        "id": "-fR7FyL9ItZU"
      }
    },
    {
      "cell_type": "code",
      "source": [
        "array=np.ones(10)\n",
        "print(\"An array of 10 ones:\")\n",
        "print(array)"
      ],
      "metadata": {
        "colab": {
          "base_uri": "https://localhost:8080/"
        },
        "id": "zc5s1FejI00e",
        "outputId": "14fcd07b-ba58-42cc-f62a-d57a0a8d8d00"
      },
      "execution_count": null,
      "outputs": [
        {
          "output_type": "stream",
          "name": "stdout",
          "text": [
            "An array of 10 ones:\n",
            "[1. 1. 1. 1. 1. 1. 1. 1. 1. 1.]\n"
          ]
        }
      ]
    },
    {
      "cell_type": "markdown",
      "source": [
        "d.Создать массив из 10 пятерок"
      ],
      "metadata": {
        "id": "3CLR70v5JaWs"
      }
    },
    {
      "cell_type": "code",
      "source": [
        "array=np.ones(10)*5\n",
        "print(\"An array of 10 fives:\")\n",
        "print(array)"
      ],
      "metadata": {
        "colab": {
          "base_uri": "https://localhost:8080/"
        },
        "id": "Tt5Ttu7LKUq4",
        "outputId": "fec22fff-69a4-4bc9-c858-2a9e5ba128ee"
      },
      "execution_count": null,
      "outputs": [
        {
          "output_type": "stream",
          "name": "stdout",
          "text": [
            "An array of 10 fives:\n",
            "[5. 5. 5. 5. 5. 5. 5. 5. 5. 5.]\n"
          ]
        }
      ]
    },
    {
      "cell_type": "markdown",
      "source": [
        "e.Создать массив из целых чисел от 10 до 50"
      ],
      "metadata": {
        "id": "Tms_pjjKKlSK"
      }
    },
    {
      "cell_type": "code",
      "source": [
        "array=np.arange(10,51)\n",
        "print(\"Array of the integers from 10 to 50\")\n",
        "print(array)"
      ],
      "metadata": {
        "colab": {
          "base_uri": "https://localhost:8080/"
        },
        "id": "JK_BdVdJLENu",
        "outputId": "e4d9b409-5d4f-404c-fb5b-38740578e24c"
      },
      "execution_count": null,
      "outputs": [
        {
          "output_type": "stream",
          "name": "stdout",
          "text": [
            "Array of the integers from 10 to 50\n",
            "[10 11 12 13 14 15 16 17 18 19 20 21 22 23 24 25 26 27 28 29 30 31 32 33\n",
            " 34 35 36 37 38 39 40 41 42 43 44 45 46 47 48 49 50]\n"
          ]
        }
      ]
    },
    {
      "cell_type": "markdown",
      "source": [
        "f.Создать массив из четных чисел от 10 до 50"
      ],
      "metadata": {
        "id": "lwYvj64lMeuY"
      }
    },
    {
      "cell_type": "code",
      "source": [
        "array=np.arange(10,51,2)\n",
        "print(\"Array of all the even integers from 10 to 50\")\n",
        "print(array)"
      ],
      "metadata": {
        "colab": {
          "base_uri": "https://localhost:8080/"
        },
        "id": "FmiDt_urMtul",
        "outputId": "4d8668eb-51e9-4fa8-e6fd-6d78cb279b96"
      },
      "execution_count": null,
      "outputs": [
        {
          "output_type": "stream",
          "name": "stdout",
          "text": [
            "Array of all the even integers from 10 to 50\n",
            "[10 12 14 16 18 20 22 24 26 28 30 32 34 36 38 40 42 44 46 48 50]\n"
          ]
        }
      ]
    },
    {
      "cell_type": "markdown",
      "source": [
        "g.Создать матрицу 3х3 с числами от 0 до 8"
      ],
      "metadata": {
        "id": "xLn99nscOaZW"
      }
    },
    {
      "cell_type": "code",
      "source": [
        "x = np.arange(0, 9).reshape(3,3)\n",
        "print(x)"
      ],
      "metadata": {
        "colab": {
          "base_uri": "https://localhost:8080/"
        },
        "id": "AcyteDdjOoU1",
        "outputId": "9667c13b-57f7-49ae-cd9f-9ab0d7afade9"
      },
      "execution_count": null,
      "outputs": [
        {
          "output_type": "stream",
          "name": "stdout",
          "text": [
            "[[0 1 2]\n",
            " [3 4 5]\n",
            " [6 7 8]]\n"
          ]
        }
      ]
    },
    {
      "cell_type": "markdown",
      "source": [
        "h.Создать единичную матрицу 3x3"
      ],
      "metadata": {
        "id": "kDBM_MxuQT5P"
      }
    },
    {
      "cell_type": "code",
      "source": [
        "x = np.eye(3)\n",
        "print(x)"
      ],
      "metadata": {
        "colab": {
          "base_uri": "https://localhost:8080/"
        },
        "id": "iDTn-Vl5QhBg",
        "outputId": "ddd81200-f21a-453e-cdb7-7a81344aceb6"
      },
      "execution_count": null,
      "outputs": [
        {
          "output_type": "stream",
          "name": "stdout",
          "text": [
            "[[1. 0. 0.]\n",
            " [0. 1. 0.]\n",
            " [0. 0. 1.]]\n"
          ]
        }
      ]
    },
    {
      "cell_type": "markdown",
      "source": [
        "i.Используйте NumPy для генерации случайного числа от 0 до 1"
      ],
      "metadata": {
        "id": "jpADLjeJSZgH"
      }
    },
    {
      "cell_type": "code",
      "source": [
        "rand_num = np.random.normal(0,1,1)\n",
        "print(\"Random number between 0 and 1:\")\n",
        "print(rand_num)"
      ],
      "metadata": {
        "colab": {
          "base_uri": "https://localhost:8080/"
        },
        "id": "4Np1jEWIV0hS",
        "outputId": "4b4c9eb0-4e5a-429a-d53b-c377d9108492"
      },
      "execution_count": null,
      "outputs": [
        {
          "output_type": "stream",
          "name": "stdout",
          "text": [
            "Random number between 0 and 1:\n",
            "[0.58979227]\n"
          ]
        }
      ]
    },
    {
      "cell_type": "markdown",
      "source": [
        "j.Используйте NumPy для генерации массива из 25 случайных чисел,взятых из стандартного нормального распределения"
      ],
      "metadata": {
        "id": "EdpYCwfFWZWD"
      }
    },
    {
      "cell_type": "code",
      "source": [
        "rand_num = np.random.normal(0,1,25)\n",
        "print(\"25 random numbers from a standard normal distribution:\")\n",
        "print(rand_num)"
      ],
      "metadata": {
        "colab": {
          "base_uri": "https://localhost:8080/"
        },
        "id": "nNznRVPTWxGs",
        "outputId": "d0e6f9ef-6056-417a-ddcf-d44922b66916"
      },
      "execution_count": null,
      "outputs": [
        {
          "output_type": "stream",
          "name": "stdout",
          "text": [
            "25 random numbers from a standard normal distribution:\n",
            "[ 0.71793939  0.24967442 -1.16409682  0.28572626  0.70889507  1.33984002\n",
            " -1.46939755  0.37970269  2.72984207 -1.72195235  0.91342323 -1.49897616\n",
            " -2.45439558 -0.11264484  0.90089259  0.88715321 -0.6845544  -1.01286067\n",
            "  0.16742202  0.98685807  2.01293977  0.67805347  0.9223191  -1.5978262\n",
            " -0.99001212]\n"
          ]
        }
      ]
    },
    {
      "cell_type": "markdown",
      "source": [
        "k.Создайте следующую матрицу используя функции библиотеки NumPy"
      ],
      "metadata": {
        "id": "xh1zib5mYVjF"
      }
    },
    {
      "cell_type": "code",
      "source": [
        "a=np.arange(0.01, 1.01, 0.01).reshape(10, 10)\n",
        "print(a)"
      ],
      "metadata": {
        "colab": {
          "base_uri": "https://localhost:8080/"
        },
        "id": "zP8f4LjlYmlc",
        "outputId": "f6d29776-cf27-4496-a28a-5be249b6a9b6"
      },
      "execution_count": null,
      "outputs": [
        {
          "output_type": "stream",
          "name": "stdout",
          "text": [
            "[[0.01 0.02 0.03 0.04 0.05 0.06 0.07 0.08 0.09 0.1 ]\n",
            " [0.11 0.12 0.13 0.14 0.15 0.16 0.17 0.18 0.19 0.2 ]\n",
            " [0.21 0.22 0.23 0.24 0.25 0.26 0.27 0.28 0.29 0.3 ]\n",
            " [0.31 0.32 0.33 0.34 0.35 0.36 0.37 0.38 0.39 0.4 ]\n",
            " [0.41 0.42 0.43 0.44 0.45 0.46 0.47 0.48 0.49 0.5 ]\n",
            " [0.51 0.52 0.53 0.54 0.55 0.56 0.57 0.58 0.59 0.6 ]\n",
            " [0.61 0.62 0.63 0.64 0.65 0.66 0.67 0.68 0.69 0.7 ]\n",
            " [0.71 0.72 0.73 0.74 0.75 0.76 0.77 0.78 0.79 0.8 ]\n",
            " [0.81 0.82 0.83 0.84 0.85 0.86 0.87 0.88 0.89 0.9 ]\n",
            " [0.91 0.92 0.93 0.94 0.95 0.96 0.97 0.98 0.99 1.  ]]\n"
          ]
        }
      ]
    },
    {
      "cell_type": "markdown",
      "source": [
        "l.Дана стартовая матрица (обязательно запустите код ниже в вашемрешении!). Эта матрица будет использоваться в последующих задачах"
      ],
      "metadata": {
        "id": "XARDW2A50UBx"
      }
    },
    {
      "cell_type": "code",
      "source": [
        "mat = np.arange(1,26).reshape(5,5)\n",
        "print(mat)"
      ],
      "metadata": {
        "colab": {
          "base_uri": "https://localhost:8080/"
        },
        "id": "BiZGK-im0eTs",
        "outputId": "3a18d7ca-60bc-447e-8c77-ad5f7b6f55b1"
      },
      "execution_count": null,
      "outputs": [
        {
          "output_type": "stream",
          "name": "stdout",
          "text": [
            "[[ 1  2  3  4  5]\n",
            " [ 6  7  8  9 10]\n",
            " [11 12 13 14 15]\n",
            " [16 17 18 19 20]\n",
            " [21 22 23 24 25]]\n"
          ]
        }
      ]
    },
    {
      "cell_type": "markdown",
      "source": [
        "Необходимо написать код который вернет следующую матрицу из стартовой:"
      ],
      "metadata": {
        "id": "YQZHSWjB07h1"
      }
    },
    {
      "cell_type": "code",
      "source": [
        "mat=np.arange(1,26).reshape(5,5)\n",
        "print(mat[2:5, 1:5])"
      ],
      "metadata": {
        "colab": {
          "base_uri": "https://localhost:8080/"
        },
        "id": "EmMh6ShW0_V7",
        "outputId": "dfd995a0-75fa-4f7c-84f4-6bcdb0ba9273"
      },
      "execution_count": null,
      "outputs": [
        {
          "output_type": "stream",
          "name": "stdout",
          "text": [
            "[[12 13 14 15]\n",
            " [17 18 19 20]\n",
            " [22 23 24 25]]\n"
          ]
        }
      ]
    },
    {
      "cell_type": "markdown",
      "source": [
        "m. Написать код обращения к элементу который вернет значение  20 изстартовой матрицы задачи l"
      ],
      "metadata": {
        "id": "LSPL7MGpQLBX"
      }
    },
    {
      "cell_type": "code",
      "source": [
        "mat=np.arange(1,26).reshape(5,5)\n",
        "print(mat[3][4])"
      ],
      "metadata": {
        "colab": {
          "base_uri": "https://localhost:8080/"
        },
        "id": "vYhgV6B6QYzD",
        "outputId": "f5566dfe-32f3-4649-e4c1-5e880e80b22e"
      },
      "execution_count": null,
      "outputs": [
        {
          "output_type": "stream",
          "name": "stdout",
          "text": [
            "20\n"
          ]
        }
      ]
    },
    {
      "cell_type": "markdown",
      "source": [
        "n.Написать код к стартовой матрице задачи l , который воспроизводитвывод, показанный ниже "
      ],
      "metadata": {
        "id": "ZJmORd9NQpzm"
      }
    },
    {
      "cell_type": "code",
      "source": [
        "mat=np.arange(1,26).reshape(5,5)\n",
        "print(mat[0:3, 1:2])"
      ],
      "metadata": {
        "colab": {
          "base_uri": "https://localhost:8080/"
        },
        "id": "pK6cZ10iRGei",
        "outputId": "dc0af3e0-c9d1-42e9-e34c-7bd9b2c2c4f5"
      },
      "execution_count": null,
      "outputs": [
        {
          "output_type": "stream",
          "name": "stdout",
          "text": [
            "[[ 2]\n",
            " [ 7]\n",
            " [12]]\n"
          ]
        }
      ]
    },
    {
      "cell_type": "markdown",
      "source": [
        "o. Написать код к стартовой матрице задачи l , который воспроизводитвывод, показанный ниже"
      ],
      "metadata": {
        "id": "GWOL73qoRU2o"
      }
    },
    {
      "cell_type": "code",
      "source": [
        "mat=np.arange(1,26).reshape(5,5)\n",
        "print(mat[4, :])"
      ],
      "metadata": {
        "colab": {
          "base_uri": "https://localhost:8080/"
        },
        "id": "l0SHhJdYRY78",
        "outputId": "0bd71faf-a146-49d9-899a-11d6b457b20d"
      },
      "execution_count": null,
      "outputs": [
        {
          "output_type": "stream",
          "name": "stdout",
          "text": [
            "[21 22 23 24 25]\n"
          ]
        }
      ]
    },
    {
      "cell_type": "markdown",
      "source": [
        "p. Написать код к стартовой матрице задачи l , который воспроизводит вывод, показанный ниже"
      ],
      "metadata": {
        "id": "zyKYiyemSAbT"
      }
    },
    {
      "cell_type": "code",
      "source": [
        "mat=np.arange(1,26).reshape(5,5)\n",
        "print(mat[3:5, :])"
      ],
      "metadata": {
        "colab": {
          "base_uri": "https://localhost:8080/"
        },
        "id": "Xo5Fi-pQSP96",
        "outputId": "4ed10b3b-4c14-4fa0-b079-ebe86e3c17d9"
      },
      "execution_count": null,
      "outputs": [
        {
          "output_type": "stream",
          "name": "stdout",
          "text": [
            "[[16 17 18 19 20]\n",
            " [21 22 23 24 25]]\n"
          ]
        }
      ]
    },
    {
      "cell_type": "markdown",
      "source": [
        "q.Получить сумму всех значений в стартовой матрице mat"
      ],
      "metadata": {
        "id": "s1xK4GMLSfpc"
      }
    },
    {
      "cell_type": "code",
      "source": [
        "mat=np.arange(1,26).reshape(5,5)\n",
        "print(mat.sum())"
      ],
      "metadata": {
        "colab": {
          "base_uri": "https://localhost:8080/"
        },
        "id": "XcCxQmFuSt5B",
        "outputId": "57d77d35-1f62-42b2-8364-16fd345f97ff"
      },
      "execution_count": null,
      "outputs": [
        {
          "output_type": "stream",
          "name": "stdout",
          "text": [
            "325\n"
          ]
        }
      ]
    },
    {
      "cell_type": "markdown",
      "source": [
        "r. Получить стандартное отклонение в стартовой матрице mat"
      ],
      "metadata": {
        "id": "1QATtlLGTAPr"
      }
    },
    {
      "cell_type": "code",
      "source": [
        "mat=np.arange(1,26).reshape(5,5)\n",
        "print(mat.std())"
      ],
      "metadata": {
        "colab": {
          "base_uri": "https://localhost:8080/"
        },
        "id": "Kq9LVdokTPmS",
        "outputId": "d2e56dce-5b84-4d25-85f9-fc05e7906592"
      },
      "execution_count": null,
      "outputs": [
        {
          "output_type": "stream",
          "name": "stdout",
          "text": [
            "7.211102550927978\n"
          ]
        }
      ]
    },
    {
      "cell_type": "markdown",
      "source": [
        "s.Получить сумму значений в колонках в стартовой матрице mat"
      ],
      "metadata": {
        "id": "J16L_2UaT9ya"
      }
    },
    {
      "cell_type": "code",
      "source": [
        "mat=np.arange(1,26).reshape(5,5)\n",
        "print(mat)\n",
        "print('__________________')\n",
        "print(mat.sum(axis=0))"
      ],
      "metadata": {
        "colab": {
          "base_uri": "https://localhost:8080/"
        },
        "id": "ZMz2p9mPUEjA",
        "outputId": "a4db7b5e-4e0b-4f26-eed2-aeeb5558b050"
      },
      "execution_count": null,
      "outputs": [
        {
          "output_type": "stream",
          "name": "stdout",
          "text": [
            "[[ 1  2  3  4  5]\n",
            " [ 6  7  8  9 10]\n",
            " [11 12 13 14 15]\n",
            " [16 17 18 19 20]\n",
            " [21 22 23 24 25]]\n",
            "__________________\n",
            "[55 60 65 70 75]\n"
          ]
        }
      ]
    }
  ]
}